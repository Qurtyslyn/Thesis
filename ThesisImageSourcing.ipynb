{
 "cells": [
  {
   "cell_type": "code",
   "execution_count": null,
   "id": "c2127787-c069-4e78-b3aa-f524b099f563",
   "metadata": {},
   "outputs": [],
   "source": [
    "import os\n",
    "import json\n",
    "import re\n",
    "import cv2\n",
    "import math\n",
    "import random\n",
    "import shutil\n",
    "import osmnx as ox\n",
    "from datetime import datetime\n",
    "\n",
    "from image_downloading import download_image"
   ]
  },
  {
   "cell_type": "markdown",
   "id": "f6db950a-7111-4edd-8fb4-175ba98fda2b",
   "metadata": {},
   "source": [
    "Set the Parameters for downloading images\n",
    "\n",
    "Downloading Satellite Images adpated from code created by andolg at https://github.com/andolg/satellite-imagery-downloader (This includes image_downloading.py imported above)\n",
    "\n",
    "OSMNX created by Geoff Boeing. \n",
    "\n",
    "Boeing, G. 2017. \"OSMnx: New Methods for Acquiring, Constructing, Analyzing, and Visualizing Complex Street Networks.\" Computers, Environment and Urban Systems 65, 126-139."
   ]
  },
  {
   "cell_type": "code",
   "execution_count": null,
   "id": "bf40bc78-3a12-4d06-b096-98cd606d4379",
   "metadata": {},
   "outputs": [],
   "source": [
    "prefs = {\n",
    "        'url': 'https://mt.google.com/vt/lyrs=s&x={x}&y={y}&z={z}',\n",
    "        'tile_size': 256,\n",
    "        'tile_format': 'jpg',\n",
    "        'dir': 'images',\n",
    "        'headers': {\n",
    "            'cache-control': 'max-age=0',\n",
    "            'sec-ch-ua': '\" Not A;Brand\";v=\"99\", \"Chromium\";v=\"99\", \"Google Chrome\";v=\"99\"',\n",
    "            'sec-ch-ua-mobile': '?0',\n",
    "            'sec-ch-ua-platform': '\"Windows\"',\n",
    "            'sec-fetch-dest': 'document',\n",
    "            'sec-fetch-mode': 'navigate',\n",
    "            'sec-fetch-site': 'none',\n",
    "            'sec-fetch-user': '?1',\n",
    "            'upgrade-insecure-requests': '1',\n",
    "            'user-agent': 'Mozilla/5.0 (Windows NT 10.0; Win64; x64) AppleWebKit/537.36 (KHTML, like Gecko) Chrome/99.0.4844.82 Safari/537.36'\n",
    "        },\n",
    "        'tl': '',\n",
    "        'br': '',\n",
    "        'zoom': '15'\n",
    "    }"
   ]
  },
  {
   "cell_type": "markdown",
   "id": "59a0d69d-d78c-42b0-83ca-8199435a4d53",
   "metadata": {},
   "source": [
    "Set the Parameters for the Images"
   ]
  },
  {
   "cell_type": "code",
   "execution_count": null,
   "id": "d20feb97-dd57-48a3-bd33-06e99f66b224",
   "metadata": {},
   "outputs": [],
   "source": [
    "startingCoordinates = [40.69,-114.23]\n",
    "filename = 'FullTest' #Just the name of the file, do not include file extension"
   ]
  },
  {
   "cell_type": "markdown",
   "id": "602a624f-135f-41f4-b666-bb699754b488",
   "metadata": {},
   "source": [
    "Create Helper Functions for image handling"
   ]
  },
  {
   "cell_type": "code",
   "execution_count": null,
   "id": "2d3ab813-e555-433a-a470-c47b5a35a24a",
   "metadata": {},
   "outputs": [],
   "source": [
    "def get_image(coordArr, width):\n",
    "    img = download_image(coordArr[0],coordArr[1],coordArr[0]-width,coordArr[1]+width, int(prefs['zoom']), prefs['url'], prefs['headers'], prefs['tile_size'], 3)\n",
    "    \n",
    "    return img\n",
    "\n",
    "def download_OSM_network(coordArr, width, filename):\n",
    "    G = ox.graph_from_bbox(coordArr[0],coordArr[0]-width,coordArr[1]+width,coordArr[1], network_type=\"all\",truncate_by_edge = \"false\")\n",
    "    #fig, ax1 = ox.plot_graph(G, node_size=0)\n",
    "    #fig.savefig(\"images\\\\\" + filename + \".png\")\n",
    "    ox.save_graph_geopackage(G, filepath='images\\\\' + filename + '.gpkg')\n",
    "    \n",
    "def Tile_Image(img,tile_width,name):\n",
    "    img_shape = img.shape\n",
    "    tile_size = (tile_width,tile_width)\n",
    "    offset = (tile_width,tile_width)\n",
    "    \n",
    "    for i in range(int(math.ceil(img_shape[0]/(offset[1] * 1.0)))):\n",
    "        for j in range(int(math.ceil(img_shape[1]/(offset[0] * 1.0)))):\n",
    "            crop = img[offset[1]*i:min(offset[1]*i+tile_size[1], img_shape[0]), offset[0]*j:min(offset[0]*j+tile_size[0], img_shape[1])]\n",
    "            \n",
    "            cv2.imwrite(\"images\\\\tiles\\\\\" + name + str(i) + \"_\" + str(j) + \".png\", crop) "
   ]
  },
  {
   "cell_type": "markdown",
   "id": "c60ccd4a-e268-47b1-8078-6455703fa358",
   "metadata": {},
   "source": [
    "Download Satellite Image "
   ]
  },
  {
   "cell_type": "code",
   "execution_count": null,
   "id": "1e674ae8-8fe8-4ecc-b7e4-f2425cc79c2d",
   "metadata": {},
   "outputs": [],
   "source": [
    "result = get_image(startingCoordinates,0.1)\n",
    "\n",
    "cv2.imwrite('images\\ImageOutput' + filename + '.jpg', result)"
   ]
  },
  {
   "cell_type": "markdown",
   "id": "b63d268c-95ab-4c77-9733-863d625424fa",
   "metadata": {},
   "source": [
    "Download OpenStreetMap Road Network"
   ]
  },
  {
   "cell_type": "code",
   "execution_count": null,
   "id": "4b253995-f8e0-4409-aa97-28f127c7dd19",
   "metadata": {},
   "outputs": [],
   "source": [
    "download_OSM_network(startingCoordinates,0.1,filename)"
   ]
  },
  {
   "cell_type": "markdown",
   "id": "d4eae1a7-2a59-4467-b097-746df538159f",
   "metadata": {},
   "source": [
    "At this point, Stop running this code. Open up QGIS and import the Satellite image and the Geopackage created above. They will need to be georeferenced together in QGIS, clipped\n",
    "and each layer exported as an Image. Once that is done. Proceed with Tiling code below.\n",
    "\n",
    "In QGIS: Add the Road Network Map from OpenStreetMap\n",
    "\n",
    "To Import and Georeference the Satellite Image: Click Layer and Select Georeferencer. Once in the Georeferencer Window, select Open Raster and Import your Satellite Image. To add Ground Control Points to georeference the image, click on a point near the edge of the image that you can easily find the Latitude and longitude for, such as a place where two roads intersect or another obvious feature. Use Google Maps or another source to find the Lat/Long for that point and put those values into the X and Y fields in the Enter Map Coordinates Box. Click Okay when done.\n",
    "\n",
    "Repeat adding Ground Control points at least six times, once in each corner, and once in the middle of the longest sides of the image, staying as close to the edeg of the image as possible.\n",
    "\n",
    "After adding the Ground Control Points, click the Green Arrow button to set the settings for the Georeference, set Transformation Tyoe to Polynomial !, and Resampling Method to Cubic. Choose a name for an output file and click Ok. Click the Green Arrow again to import the Georeferenced file into the QGIS project.\n",
    "\n",
    "#Select Layer -> Create Layer -> New Shapefile Layer in the Menu. Give it a name, and select Polygon for Geometry Type. Click Ok.\n",
    "\n",
    "#Select the Layer in the Layers table. Click the Add Polygon Feature button in the menu bar, and add points as close to the corners of your satellite image as you can. Click the Add Polygon Feature button #again to add the Polygon to the layer.\n",
    "\n",
    "#Select Vector -> Geoprocessing -> Clip in the menu. Selct the Input layer as the Edge layer of the Road Network, select the Clip layer you just created as your clipping layer. \n",
    "\n",
    "Right click on the Edges Layer and selct Symbology. change the line color to Black, and the width of the line to match the roads in the Satellite image (around 2-3 pixels should work).\n",
    "\n",
    "Export Images: Turn off every layer except your Satellite Image. Click on Project -> Import/Export -> Export Map to Image. Under Calculate From Select Layer and select your Satellite Image layer. Change the Scale to 1:13466, and Resolution to 150 DPI. Click Save. Name your File. Click Save.\n",
    "\n",
    "Turn off your satellite layer, and turn on the Edges layer. Click on Project -> Import/Export -> Export Map to Image. Under Calculate From Select Layer and select your Satellite Image layer. Change the Scale to 1:13466, and Resolution to 150 DPI. Click Save. Name your File. Click Save.\n"
   ]
  },
  {
   "cell_type": "markdown",
   "id": "2aacc0ab-4637-4277-81e7-ac74f583f841",
   "metadata": {},
   "source": [
    "Import the Images you created in QGIS"
   ]
  },
  {
   "cell_type": "code",
   "execution_count": null,
   "id": "d99c3470-134b-4253-a117-1cb3a37295b7",
   "metadata": {},
   "outputs": [],
   "source": [
    "satelliteImageFilename = 'SatelliteNetwork.png'\n",
    "roadNetworkFilename = 'RoadNetwork.png'"
   ]
  },
  {
   "cell_type": "code",
   "execution_count": null,
   "id": "242aedad-7136-4314-8d65-1cd0882aecd6",
   "metadata": {},
   "outputs": [],
   "source": [
    "img = cv2.imread('images\\\\' + satelliteImageFilename)\n",
    "img2 = cv2.imread('images\\\\' + roadNetworkFilename)"
   ]
  },
  {
   "cell_type": "markdown",
   "id": "7a624865-368b-4479-b145-2b34e90843a7",
   "metadata": {},
   "source": [
    "Tile the images to create a training dataset"
   ]
  },
  {
   "cell_type": "code",
   "execution_count": null,
   "id": "8895b33e-e569-45a0-9f9a-8d258a78d887",
   "metadata": {},
   "outputs": [],
   "source": [
    "Tile_Image(img,100,\"Satellite\")\n",
    "Tile_Image(img2,100,\"RoadMask\")"
   ]
  },
  {
   "cell_type": "markdown",
   "id": "e492e19a-5ed3-498f-989b-256ee4888a77",
   "metadata": {},
   "source": [
    "Sort Images into Train/Validate/Test folders"
   ]
  },
  {
   "cell_type": "code",
   "execution_count": null,
   "id": "05607ac2-f08e-45a7-a15c-17823de302a8",
   "metadata": {},
   "outputs": [],
   "source": [
    "file_list = os.listdir('images\\\\Tiles')\n",
    "roadImages = file_list[0:int(len(file_list)/2)]\n",
    "satImages = file_list[int(len(file_list)/2):int(len(file_list))]\n",
    "keys = list(range(0,len(satImages)))\n",
    "random.shuffle(keys)"
   ]
  },
  {
   "cell_type": "markdown",
   "id": "f8d44719-e34e-4798-9c07-fb67f7faa296",
   "metadata": {},
   "source": [
    "Split Data Set into 70% Training, 20% Validation, 10% Test"
   ]
  },
  {
   "cell_type": "code",
   "execution_count": null,
   "id": "21c65e16-4e0e-4342-84a4-4094cd1217a0",
   "metadata": {},
   "outputs": [],
   "source": [
    "trainingSplit = int(len(satImages)*.7)\n",
    "validationSplit = int(len(satImages)*.9)"
   ]
  },
  {
   "cell_type": "code",
   "execution_count": null,
   "id": "5ab29897-a1c7-41bd-887e-2749a593b51a",
   "metadata": {},
   "outputs": [],
   "source": [
    "for key in keys[validationSplit:len(satImages)-1]:\n",
    "    shutil.copyfile('images\\\\Tiles\\\\' + roadImages[key], 'images\\\\Dataset\\\\Test\\\\' + roadImages[key])\n",
    "    shutil.copyfile('images\\\\Tiles\\\\' + satImages[key], 'images\\\\Dataset\\\\Test\\\\' + satImages[key])\n",
    "    \n",
    "for key in keys[trainingSplit:validationSplit]:\n",
    "    shutil.copyfile('images\\\\Tiles\\\\' + roadImages[key], 'images\\\\Dataset\\\\Validate\\\\' + roadImages[key])\n",
    "    shutil.copyfile('images\\\\Tiles\\\\' + satImages[key], 'images\\\\Dataset\\\\Validate\\\\' + satImages[key])\n",
    "    \n",
    "for key in keys[0:trainingSplit]:\n",
    "    shutil.copyfile('images\\\\Tiles\\\\' + roadImages[key], 'images\\\\Dataset\\\\Train\\\\' + roadImages[key])\n",
    "    shutil.copyfile('images\\\\Tiles\\\\' + satImages[key], 'images\\\\Dataset\\\\Train\\\\' + satImages[key])"
   ]
  }
 ],
 "metadata": {
  "kernelspec": {
   "display_name": "Python 3 (ipykernel)",
   "language": "python",
   "name": "python3"
  },
  "language_info": {
   "codemirror_mode": {
    "name": "ipython",
    "version": 3
   },
   "file_extension": ".py",
   "mimetype": "text/x-python",
   "name": "python",
   "nbconvert_exporter": "python",
   "pygments_lexer": "ipython3",
   "version": "3.10.8"
  }
 },
 "nbformat": 4,
 "nbformat_minor": 5
}
